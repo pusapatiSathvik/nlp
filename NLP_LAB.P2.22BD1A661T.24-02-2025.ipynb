{
 "cells": [
  {
   "cell_type": "markdown",
   "id": "db27306b-2079-456f-ba5d-a104c3baafa1",
   "metadata": {},
   "source": [
    "# Program 2\n",
    "Using Python libraries, download Wikipedia's page on open source and tokenize the text, remove the stop words. What percentage of the page is stop words?"
   ]
  },
  {
   "cell_type": "code",
   "execution_count": 9,
   "id": "a4c5544c-28d2-4b57-8a10-dcf154b0d6f6",
   "metadata": {},
   "outputs": [
    {
     "name": "stdout",
     "output_type": "stream",
     "text": [
      "Total words: 147\n",
      "Stop words count: 60\n",
      "Percentage of stop words: 40.82%\n"
     ]
    }
   ],
   "source": [
    "import requests\n",
    "from bs4 import BeautifulSoup\n",
    "import spacy\n",
    "\n",
    "# Step 1: Download Wikipedia page\n",
    "url = \"https://en.wikipedia.org/api/rest_v1/page/summary/MS_Dhoni\"\n",
    "response = requests.get(url)\n",
    "data = response.json()\n",
    "\n",
    "# Step 2: Extract main text from Wikipedia page\n",
    "text = data.get(\"extract\")\n",
    "\n",
    "# Step 3: Load spaCy model (small model for efficiency)\n",
    "nlp = spacy.load(\"en_core_web_sm\")\n",
    "\n",
    "# Step 4: Process text\n",
    "doc = nlp(text)\n",
    "\n",
    "# Step 5: Tokenization and Stop Words Removal\n",
    "tokens = [token.text for token in doc if not token.is_stop and token.is_alpha]\n",
    "stop_words_count = sum(1 for token in doc if token.is_stop)\n",
    "total_words = len(doc)\n",
    "\n",
    "# Step 6: Calculate percentage of stop words\n",
    "stop_word_percentage = (stop_words_count / total_words) * 100\n",
    "\n",
    "# Print results\n",
    "print(f\"Total words: {total_words}\")\n",
    "print(f\"Stop words count: {stop_words_count}\")\n",
    "print(f\"Percentage of stop words: {stop_word_percentage:.2f}%\")\n"
   ]
  },
  {
   "cell_type": "code",
   "execution_count": null,
   "id": "94fc3315-acd4-45a6-a67a-0c7ac971efe2",
   "metadata": {},
   "outputs": [],
   "source": []
  }
 ],
 "metadata": {
  "kernelspec": {
   "display_name": "Python 3 (ipykernel)",
   "language": "python",
   "name": "python3"
  },
  "language_info": {
   "codemirror_mode": {
    "name": "ipython",
    "version": 3
   },
   "file_extension": ".py",
   "mimetype": "text/x-python",
   "name": "python",
   "nbconvert_exporter": "python",
   "pygments_lexer": "ipython3",
   "version": "3.12.6"
  }
 },
 "nbformat": 4,
 "nbformat_minor": 5
}
